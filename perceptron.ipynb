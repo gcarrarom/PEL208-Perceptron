{
 "metadata": {
  "language_info": {
   "codemirror_mode": {
    "name": "ipython",
    "version": 3
   },
   "file_extension": ".py",
   "mimetype": "text/x-python",
   "name": "python",
   "nbconvert_exporter": "python",
   "pygments_lexer": "ipython3",
   "version": "3.8.6-final"
  },
  "orig_nbformat": 2,
  "kernelspec": {
   "name": "python3",
   "display_name": "Python 3.8.6 64-bit",
   "metadata": {
    "interpreter": {
     "hash": "476153e55000c35de56ef350a9057037a1539011805ea82016ba1946b67534df"
    }
   }
  }
 },
 "nbformat": 4,
 "nbformat_minor": 2,
 "cells": [
  {
   "source": [
    "# Perceptron\n",
    "In here we will analyse the perceptron approach into classification.\n",
    "For that I have prepared a new class called Perceptron in the file [perceptron.py](./perceptron.py). This class is composed by 2 main methods: fit and predict.\n",
    "\n",
    "The fit method is going to use the defined values of the Perceptron class and iterate through the input matrix of values to be classified, and compare that with the prediction of the entry. By doing that, we can increase or decrease the weights of the perceptron to get closer to the expected output in the prediction.\n",
    "\n",
    "The predict method receives an array of values and outputs the predicted value of the perceptron: 1 or 0.\n",
    "\n",
    "In the example given in class, there was a dataset with 3 artists: Beethoven [1, 1, 1, -1, -1], Homero [1, -1, 1, -1, 1] and Picasso [1, 1, -1, -1, 1]. For each of those there was a 5 entry value and a 4 entry output that could be interpreted as music (1,1,0,0), literature (1,0,1,0) and painting (1,0,0,1).\n",
    "\n",
    "Let's try and see if the perceptron implementation would predict those correctly, first by trying Beethoven:"
   ],
   "cell_type": "markdown",
   "metadata": {}
  },
  {
   "cell_type": "code",
   "execution_count": 1,
   "metadata": {},
   "outputs": [
    {
     "output_type": "stream",
     "name": "stdout",
     "text": [
      "starting perceptron 0\n",
      "outputs: [1, 1, 1]\n",
      "Here is the synapse array: [ 0.01  0.01  0.01 -0.01 -0.01]\n",
      "starting perceptron 1\n",
      "outputs: [1, -1, -1]\n",
      "Here is the synapse array: [-16.01   4.01   3.99  16.01 -24.01]\n",
      "starting perceptron 2\n",
      "outputs: [-1, 1, -1]\n",
      "Here is the synapse array: [-16. -24.   4.  16.   4.]\n",
      "starting perceptron 3\n",
      "outputs: [-1, -1, 1]\n",
      "Here is the synapse array: [-0.03  0.01 -0.05  0.03  0.01]\n",
      "1\n",
      "0\n",
      "0\n",
      "0\n"
     ]
    }
   ],
   "source": [
    "from perceptron import Perceptron\n",
    "from class_exercise import dataset, output\n",
    "perceptrons = []\n",
    "for output_column_index, output_item in enumerate(output[0]):\n",
    "    print(f'starting perceptron {output_column_index}')\n",
    "    perc = Perceptron()\n",
    "    outputs = [out[output_column_index] for out in output]\n",
    "    print(f\"outputs: {outputs}\")\n",
    "    perc.fit(dataset, outputs)\n",
    "    print(f'Here is the synapse array: {perc.synapse_array}')\n",
    "    perceptrons.append(perc)\n",
    "\n",
    "to_predict = [1, 1, 1, -1, -1]\n",
    "for perceptron in perceptrons:\n",
    "    print(perceptron.predict(to_predict))"
   ]
  },
  {
   "source": [
    "As we can see from this output, the creation of the 4 perceptrons and the synapse matrix happened automatically, and properly predicted the output of music for Beethoven.\n",
    "Now that we have proven the potential of this implementation, let's try that with the Iris dataset.\n",
    "\n",
    "The first ask is to use just the two first classes of the iris dataset, then to add the third. Let's try for the first two:"
   ],
   "cell_type": "markdown",
   "metadata": {}
  },
  {
   "cell_type": "code",
   "execution_count": 2,
   "metadata": {},
   "outputs": [
    {
     "output_type": "stream",
     "name": "stdout",
     "text": [
      "[0.07  0.032 0.047 0.014]\nPrediction correct? False ([5.1 3.5 1.4 0.2] -> 0 ? 1)\nPrediction correct? False ([4.9 3.  1.4 0.2] -> 0 ? 1)\nPrediction correct? False ([4.7 3.2 1.3 0.2] -> 0 ? 1)\nPrediction correct? False ([4.6 3.1 1.5 0.2] -> 0 ? 1)\nPrediction correct? False ([5.  3.6 1.4 0.2] -> 0 ? 1)\nPrediction correct? False ([5.4 3.9 1.7 0.4] -> 0 ? 1)\nPrediction correct? False ([4.6 3.4 1.4 0.3] -> 0 ? 1)\nPrediction correct? False ([5.  3.4 1.5 0.2] -> 0 ? 1)\nPrediction correct? False ([4.4 2.9 1.4 0.2] -> 0 ? 1)\nPrediction correct? False ([4.9 3.1 1.5 0.1] -> 0 ? 1)\nPrediction correct? False ([5.4 3.7 1.5 0.2] -> 0 ? 1)\nPrediction correct? False ([4.8 3.4 1.6 0.2] -> 0 ? 1)\nPrediction correct? False ([4.8 3.  1.4 0.1] -> 0 ? 1)\nPrediction correct? False ([4.3 3.  1.1 0.1] -> 0 ? 1)\nPrediction correct? False ([5.8 4.  1.2 0.2] -> 0 ? 1)\nPrediction correct? False ([5.7 4.4 1.5 0.4] -> 0 ? 1)\nPrediction correct? False ([5.4 3.9 1.3 0.4] -> 0 ? 1)\nPrediction correct? False ([5.1 3.5 1.4 0.3] -> 0 ? 1)\nPrediction correct? False ([5.7 3.8 1.7 0.3] -> 0 ? 1)\nPrediction correct? False ([5.1 3.8 1.5 0.3] -> 0 ? 1)\nPrediction correct? False ([5.4 3.4 1.7 0.2] -> 0 ? 1)\nPrediction correct? False ([5.1 3.7 1.5 0.4] -> 0 ? 1)\nPrediction correct? False ([4.6 3.6 1.  0.2] -> 0 ? 1)\nPrediction correct? False ([5.1 3.3 1.7 0.5] -> 0 ? 1)\nPrediction correct? False ([4.8 3.4 1.9 0.2] -> 0 ? 1)\nPrediction correct? False ([5.  3.  1.6 0.2] -> 0 ? 1)\nPrediction correct? False ([5.  3.4 1.6 0.4] -> 0 ? 1)\nPrediction correct? False ([5.2 3.5 1.5 0.2] -> 0 ? 1)\nPrediction correct? False ([5.2 3.4 1.4 0.2] -> 0 ? 1)\nPrediction correct? False ([4.7 3.2 1.6 0.2] -> 0 ? 1)\nPrediction correct? False ([4.8 3.1 1.6 0.2] -> 0 ? 1)\nPrediction correct? False ([5.4 3.4 1.5 0.4] -> 0 ? 1)\nPrediction correct? False ([5.2 4.1 1.5 0.1] -> 0 ? 1)\nPrediction correct? False ([5.5 4.2 1.4 0.2] -> 0 ? 1)\nPrediction correct? False ([4.9 3.1 1.5 0.2] -> 0 ? 1)\nPrediction correct? False ([5.  3.2 1.2 0.2] -> 0 ? 1)\nPrediction correct? False ([5.5 3.5 1.3 0.2] -> 0 ? 1)\nPrediction correct? False ([4.9 3.6 1.4 0.1] -> 0 ? 1)\nPrediction correct? False ([4.4 3.  1.3 0.2] -> 0 ? 1)\nPrediction correct? False ([5.1 3.4 1.5 0.2] -> 0 ? 1)\nPrediction correct? False ([5.  3.5 1.3 0.3] -> 0 ? 1)\nPrediction correct? False ([4.5 2.3 1.3 0.3] -> 0 ? 1)\nPrediction correct? False ([4.4 3.2 1.3 0.2] -> 0 ? 1)\nPrediction correct? False ([5.  3.5 1.6 0.6] -> 0 ? 1)\nPrediction correct? False ([5.1 3.8 1.9 0.4] -> 0 ? 1)\nPrediction correct? False ([4.8 3.  1.4 0.3] -> 0 ? 1)\nPrediction correct? False ([5.1 3.8 1.6 0.2] -> 0 ? 1)\nPrediction correct? False ([4.6 3.2 1.4 0.2] -> 0 ? 1)\nPrediction correct? False ([5.3 3.7 1.5 0.2] -> 0 ? 1)\nPrediction correct? False ([5.  3.3 1.4 0.2] -> 0 ? 1)\nPrediction correct? True ([7.  3.2 4.7 1.4] -> 1 ? 1)\nPrediction correct? True ([6.4 3.2 4.5 1.5] -> 1 ? 1)\nPrediction correct? True ([6.9 3.1 4.9 1.5] -> 1 ? 1)\nPrediction correct? True ([5.5 2.3 4.  1.3] -> 1 ? 1)\nPrediction correct? True ([6.5 2.8 4.6 1.5] -> 1 ? 1)\nPrediction correct? True ([5.7 2.8 4.5 1.3] -> 1 ? 1)\nPrediction correct? True ([6.3 3.3 4.7 1.6] -> 1 ? 1)\nPrediction correct? True ([4.9 2.4 3.3 1. ] -> 1 ? 1)\nPrediction correct? True ([6.6 2.9 4.6 1.3] -> 1 ? 1)\nPrediction correct? True ([5.2 2.7 3.9 1.4] -> 1 ? 1)\nPrediction correct? True ([5.  2.  3.5 1. ] -> 1 ? 1)\nPrediction correct? True ([5.9 3.  4.2 1.5] -> 1 ? 1)\nPrediction correct? True ([6.  2.2 4.  1. ] -> 1 ? 1)\nPrediction correct? True ([6.1 2.9 4.7 1.4] -> 1 ? 1)\nPrediction correct? True ([5.6 2.9 3.6 1.3] -> 1 ? 1)\nPrediction correct? True ([6.7 3.1 4.4 1.4] -> 1 ? 1)\nPrediction correct? True ([5.6 3.  4.5 1.5] -> 1 ? 1)\nPrediction correct? True ([5.8 2.7 4.1 1. ] -> 1 ? 1)\nPrediction correct? True ([6.2 2.2 4.5 1.5] -> 1 ? 1)\nPrediction correct? True ([5.6 2.5 3.9 1.1] -> 1 ? 1)\nPrediction correct? True ([5.9 3.2 4.8 1.8] -> 1 ? 1)\nPrediction correct? True ([6.1 2.8 4.  1.3] -> 1 ? 1)\nPrediction correct? True ([6.3 2.5 4.9 1.5] -> 1 ? 1)\nPrediction correct? True ([6.1 2.8 4.7 1.2] -> 1 ? 1)\nPrediction correct? True ([6.4 2.9 4.3 1.3] -> 1 ? 1)\nPrediction correct? True ([6.6 3.  4.4 1.4] -> 1 ? 1)\nPrediction correct? True ([6.8 2.8 4.8 1.4] -> 1 ? 1)\nPrediction correct? True ([6.7 3.  5.  1.7] -> 1 ? 1)\nPrediction correct? True ([6.  2.9 4.5 1.5] -> 1 ? 1)\nPrediction correct? True ([5.7 2.6 3.5 1. ] -> 1 ? 1)\nPrediction correct? True ([5.5 2.4 3.8 1.1] -> 1 ? 1)\nPrediction correct? True ([5.5 2.4 3.7 1. ] -> 1 ? 1)\nPrediction correct? True ([5.8 2.7 3.9 1.2] -> 1 ? 1)\nPrediction correct? True ([6.  2.7 5.1 1.6] -> 1 ? 1)\nPrediction correct? True ([5.4 3.  4.5 1.5] -> 1 ? 1)\nPrediction correct? True ([6.  3.4 4.5 1.6] -> 1 ? 1)\nPrediction correct? True ([6.7 3.1 4.7 1.5] -> 1 ? 1)\nPrediction correct? True ([6.3 2.3 4.4 1.3] -> 1 ? 1)\nPrediction correct? True ([5.6 3.  4.1 1.3] -> 1 ? 1)\nPrediction correct? True ([5.5 2.5 4.  1.3] -> 1 ? 1)\nPrediction correct? True ([5.5 2.6 4.4 1.2] -> 1 ? 1)\nPrediction correct? True ([6.1 3.  4.6 1.4] -> 1 ? 1)\nPrediction correct? True ([5.8 2.6 4.  1.2] -> 1 ? 1)\nPrediction correct? True ([5.  2.3 3.3 1. ] -> 1 ? 1)\nPrediction correct? True ([5.6 2.7 4.2 1.3] -> 1 ? 1)\nPrediction correct? True ([5.7 3.  4.2 1.2] -> 1 ? 1)\nPrediction correct? True ([5.7 2.9 4.2 1.3] -> 1 ? 1)\nPrediction correct? True ([6.2 2.9 4.3 1.3] -> 1 ? 1)\nPrediction correct? True ([5.1 2.5 3.  1.1] -> 1 ? 1)\nPrediction correct? True ([5.7 2.8 4.1 1.3] -> 1 ? 1)\n"
     ]
    }
   ],
   "source": [
    "from iris_dataset_2classes import output, dataset\n",
    "params = [\n",
    "    (1e-1, 1e-1),\n",
    "    (1e-2, 1e-2),\n",
    "    (1e-3, 1e-3),\n",
    "    (1e-4, 1e-4),\n",
    "    (1e-4, 1e-1),\n",
    "    (1e-4, 1e-2),\n",
    "    (1e-4, 1e-3),\n",
    "    (1e-1, 1e-4),\n",
    "    (1e-2, 1e-4),\n",
    "    (1e-3, 1e-4),\n",
    "]\n",
    "for tolerance, learning_rate in params:\n",
    "    perc = Perceptron()\n",
    "    perc.fit(dataset, output)\n",
    "    print(perc.synapse_array)\n",
    "    results = []\n",
    "    for row, result in zip(dataset, output):\n",
    "        results.append(perc.predict(row) == result)\n",
    "    print(f\"For Tolerance {tolerance} and learning rate {learning_rate}, we've got {(len([result for result in results if result])/len(results))}%\")\n"
   ]
  },
  {
   "source": [
    "Now that we were able to converge in the two classess of the iris dataset, the last bit of test is to try and classify all three classes.\n",
    "\n",
    "As perceptrons only have two types of outputs, it's necessary to convert the output class as a binary output. Using this logic, the classes are [0,0], [0,1] and [1,0]."
   ],
   "cell_type": "markdown",
   "metadata": {}
  },
  {
   "cell_type": "code",
   "execution_count": 3,
   "metadata": {},
   "outputs": [
    {
     "output_type": "stream",
     "name": "stdout",
     "text": [
      "starting perceptron 0\noutputs: [0, 0, 0, 0, 0, 0, 0, 0, 0, 0, 0, 0, 0, 0, 0, 0, 0, 0, 0, 0, 0, 0, 0, 0, 0, 0, 0, 0, 0, 0, 0, 0, 0, 0, 0, 0, 0, 0, 0, 0, 0, 0, 0, 0, 0, 0, 0, 0, 0, 0, 0, 0, 0, 0, 0, 0, 0, 0, 0, 0, 0, 0, 0, 0, 0, 0, 0, 0, 0, 0, 0, 0, 0, 0, 0, 0, 0, 0, 0, 0, 0, 0, 0, 0, 0, 0, 0, 0, 0, 0, 0, 0, 0, 0, 0, 0, 0, 0, 0, 0, 1, 1, 1, 1, 1, 1, 1, 1, 1, 1, 1, 1, 1, 1, 1, 1, 1, 1, 1, 1, 1, 1, 1, 1, 1, 1, 1, 1, 1, 1, 1, 1, 1, 1, 1, 1, 1, 1, 1, 1, 1, 1, 1, 1, 1, 1, 1, 1, 1, 1]\nHere is the synapse array: [0.063 0.033 0.06  0.025]\nstarting perceptron 1\noutputs: [0, 0, 0, 0, 0, 0, 0, 0, 0, 0, 0, 0, 0, 0, 0, 0, 0, 0, 0, 0, 0, 0, 0, 0, 0, 0, 0, 0, 0, 0, 0, 0, 0, 0, 0, 0, 0, 0, 0, 0, 0, 0, 0, 0, 0, 0, 0, 0, 0, 0, 1, 1, 1, 1, 1, 1, 1, 1, 1, 1, 1, 1, 1, 1, 1, 1, 1, 1, 1, 1, 1, 1, 1, 1, 1, 1, 1, 1, 1, 1, 1, 1, 1, 1, 1, 1, 1, 1, 1, 1, 1, 1, 1, 1, 1, 1, 1, 1, 1, 1, 0, 0, 0, 0, 0, 0, 0, 0, 0, 0, 0, 0, 0, 0, 0, 0, 0, 0, 0, 0, 0, 0, 0, 0, 0, 0, 0, 0, 0, 0, 0, 0, 0, 0, 0, 0, 0, 0, 0, 0, 0, 0, 0, 0, 0, 0, 0, 0, 0, 0]\nHere is the synapse array: [ 0.007 -0.001 -0.013 -0.011]\nPrediction correct? False ([5.1 3.5 1.4 0.2] -> [0, 0] ? [1, 1])\nPrediction correct? False ([4.9 3.  1.4 0.2] -> [0, 0] ? [1, 1])\nPrediction correct? False ([4.7 3.2 1.3 0.2] -> [0, 0] ? [1, 1])\nPrediction correct? False ([4.6 3.1 1.5 0.2] -> [0, 0] ? [1, 1])\nPrediction correct? False ([5.  3.6 1.4 0.2] -> [0, 0] ? [1, 1])\nPrediction correct? False ([5.4 3.9 1.7 0.4] -> [0, 0] ? [1, 1])\nPrediction correct? False ([4.6 3.4 1.4 0.3] -> [0, 0] ? [1, 1])\nPrediction correct? False ([5.  3.4 1.5 0.2] -> [0, 0] ? [1, 1])\nPrediction correct? False ([4.4 2.9 1.4 0.2] -> [0, 0] ? [1, 1])\nPrediction correct? False ([4.9 3.1 1.5 0.1] -> [0, 0] ? [1, 1])\nPrediction correct? False ([5.4 3.7 1.5 0.2] -> [0, 0] ? [1, 1])\nPrediction correct? False ([4.8 3.4 1.6 0.2] -> [0, 0] ? [1, 1])\nPrediction correct? False ([4.8 3.  1.4 0.1] -> [0, 0] ? [1, 1])\nPrediction correct? False ([4.3 3.  1.1 0.1] -> [0, 0] ? [1, 1])\nPrediction correct? False ([5.8 4.  1.2 0.2] -> [0, 0] ? [1, 1])\nPrediction correct? False ([5.7 4.4 1.5 0.4] -> [0, 0] ? [1, 1])\nPrediction correct? False ([5.4 3.9 1.3 0.4] -> [0, 0] ? [1, 1])\nPrediction correct? False ([5.1 3.5 1.4 0.3] -> [0, 0] ? [1, 1])\nPrediction correct? False ([5.7 3.8 1.7 0.3] -> [0, 0] ? [1, 1])\nPrediction correct? False ([5.1 3.8 1.5 0.3] -> [0, 0] ? [1, 1])\nPrediction correct? False ([5.4 3.4 1.7 0.2] -> [0, 0] ? [1, 1])\nPrediction correct? False ([5.1 3.7 1.5 0.4] -> [0, 0] ? [1, 1])\nPrediction correct? False ([4.6 3.6 1.  0.2] -> [0, 0] ? [1, 1])\nPrediction correct? False ([5.1 3.3 1.7 0.5] -> [0, 0] ? [1, 1])\nPrediction correct? False ([4.8 3.4 1.9 0.2] -> [0, 0] ? [1, 1])\nPrediction correct? False ([5.  3.  1.6 0.2] -> [0, 0] ? [1, 1])\nPrediction correct? False ([5.  3.4 1.6 0.4] -> [0, 0] ? [1, 1])\nPrediction correct? False ([5.2 3.5 1.5 0.2] -> [0, 0] ? [1, 1])\nPrediction correct? False ([5.2 3.4 1.4 0.2] -> [0, 0] ? [1, 1])\nPrediction correct? False ([4.7 3.2 1.6 0.2] -> [0, 0] ? [1, 1])\nPrediction correct? False ([4.8 3.1 1.6 0.2] -> [0, 0] ? [1, 1])\nPrediction correct? False ([5.4 3.4 1.5 0.4] -> [0, 0] ? [1, 1])\nPrediction correct? False ([5.2 4.1 1.5 0.1] -> [0, 0] ? [1, 1])\nPrediction correct? False ([5.5 4.2 1.4 0.2] -> [0, 0] ? [1, 1])\nPrediction correct? False ([4.9 3.1 1.5 0.2] -> [0, 0] ? [1, 1])\nPrediction correct? False ([5.  3.2 1.2 0.2] -> [0, 0] ? [1, 1])\nPrediction correct? False ([5.5 3.5 1.3 0.2] -> [0, 0] ? [1, 1])\nPrediction correct? False ([4.9 3.6 1.4 0.1] -> [0, 0] ? [1, 1])\nPrediction correct? False ([4.4 3.  1.3 0.2] -> [0, 0] ? [1, 1])\nPrediction correct? False ([5.1 3.4 1.5 0.2] -> [0, 0] ? [1, 1])\nPrediction correct? False ([5.  3.5 1.3 0.3] -> [0, 0] ? [1, 1])\nPrediction correct? False ([4.5 2.3 1.3 0.3] -> [0, 0] ? [1, 1])\nPrediction correct? False ([4.4 3.2 1.3 0.2] -> [0, 0] ? [1, 1])\nPrediction correct? False ([5.  3.5 1.6 0.6] -> [0, 0] ? [1, 1])\nPrediction correct? False ([5.1 3.8 1.9 0.4] -> [0, 0] ? [1, 1])\nPrediction correct? False ([4.8 3.  1.4 0.3] -> [0, 0] ? [1, 1])\nPrediction correct? False ([5.1 3.8 1.6 0.2] -> [0, 0] ? [1, 1])\nPrediction correct? False ([4.6 3.2 1.4 0.2] -> [0, 0] ? [1, 1])\nPrediction correct? False ([5.3 3.7 1.5 0.2] -> [0, 0] ? [1, 1])\nPrediction correct? False ([5.  3.3 1.4 0.2] -> [0, 0] ? [1, 1])\nPrediction correct? False ([7.  3.2 4.7 1.4] -> [0, 1] ? [1, 0])\nPrediction correct? False ([6.4 3.2 4.5 1.5] -> [0, 1] ? [1, 0])\nPrediction correct? False ([6.9 3.1 4.9 1.5] -> [0, 1] ? [1, 0])\nPrediction correct? False ([5.5 2.3 4.  1.3] -> [0, 1] ? [1, 0])\nPrediction correct? False ([6.5 2.8 4.6 1.5] -> [0, 1] ? [1, 0])\nPrediction correct? False ([5.7 2.8 4.5 1.3] -> [0, 1] ? [1, 0])\nPrediction correct? False ([6.3 3.3 4.7 1.6] -> [0, 1] ? [1, 0])\nPrediction correct? False ([4.9 2.4 3.3 1. ] -> [0, 1] ? [1, 0])\nPrediction correct? False ([6.6 2.9 4.6 1.3] -> [0, 1] ? [1, 0])\nPrediction correct? False ([5.2 2.7 3.9 1.4] -> [0, 1] ? [1, 0])\nPrediction correct? False ([5.  2.  3.5 1. ] -> [0, 1] ? [1, 0])\nPrediction correct? False ([5.9 3.  4.2 1.5] -> [0, 1] ? [1, 0])\nPrediction correct? False ([6.  2.2 4.  1. ] -> [0, 1] ? [1, 0])\nPrediction correct? False ([6.1 2.9 4.7 1.4] -> [0, 1] ? [1, 0])\nPrediction correct? False ([5.6 2.9 3.6 1.3] -> [0, 1] ? [1, 0])\nPrediction correct? False ([6.7 3.1 4.4 1.4] -> [0, 1] ? [1, 0])\nPrediction correct? False ([5.6 3.  4.5 1.5] -> [0, 1] ? [1, 0])\nPrediction correct? False ([5.8 2.7 4.1 1. ] -> [0, 1] ? [1, 0])\nPrediction correct? False ([6.2 2.2 4.5 1.5] -> [0, 1] ? [1, 0])\nPrediction correct? False ([5.6 2.5 3.9 1.1] -> [0, 1] ? [1, 0])\nPrediction correct? False ([5.9 3.2 4.8 1.8] -> [0, 1] ? [1, 0])\nPrediction correct? False ([6.1 2.8 4.  1.3] -> [0, 1] ? [1, 0])\nPrediction correct? False ([6.3 2.5 4.9 1.5] -> [0, 1] ? [1, 0])\nPrediction correct? False ([6.1 2.8 4.7 1.2] -> [0, 1] ? [1, 0])\nPrediction correct? False ([6.4 2.9 4.3 1.3] -> [0, 1] ? [1, 0])\nPrediction correct? False ([6.6 3.  4.4 1.4] -> [0, 1] ? [1, 0])\nPrediction correct? False ([6.8 2.8 4.8 1.4] -> [0, 1] ? [1, 0])\nPrediction correct? False ([6.7 3.  5.  1.7] -> [0, 1] ? [1, 0])\nPrediction correct? False ([6.  2.9 4.5 1.5] -> [0, 1] ? [1, 0])\nPrediction correct? False ([5.7 2.6 3.5 1. ] -> [0, 1] ? [1, 0])\nPrediction correct? False ([5.5 2.4 3.8 1.1] -> [0, 1] ? [1, 0])\nPrediction correct? False ([5.5 2.4 3.7 1. ] -> [0, 1] ? [1, 0])\nPrediction correct? False ([5.8 2.7 3.9 1.2] -> [0, 1] ? [1, 0])\nPrediction correct? False ([6.  2.7 5.1 1.6] -> [0, 1] ? [1, 0])\nPrediction correct? False ([5.4 3.  4.5 1.5] -> [0, 1] ? [1, 0])\nPrediction correct? False ([6.  3.4 4.5 1.6] -> [0, 1] ? [1, 0])\nPrediction correct? False ([6.7 3.1 4.7 1.5] -> [0, 1] ? [1, 0])\nPrediction correct? False ([6.3 2.3 4.4 1.3] -> [0, 1] ? [1, 0])\nPrediction correct? False ([5.6 3.  4.1 1.3] -> [0, 1] ? [1, 0])\nPrediction correct? False ([5.5 2.5 4.  1.3] -> [0, 1] ? [1, 0])\nPrediction correct? False ([5.5 2.6 4.4 1.2] -> [0, 1] ? [1, 0])\nPrediction correct? False ([6.1 3.  4.6 1.4] -> [0, 1] ? [1, 0])\nPrediction correct? False ([5.8 2.6 4.  1.2] -> [0, 1] ? [1, 0])\nPrediction correct? False ([5.  2.3 3.3 1. ] -> [0, 1] ? [1, 0])\nPrediction correct? False ([5.6 2.7 4.2 1.3] -> [0, 1] ? [1, 0])\nPrediction correct? False ([5.7 3.  4.2 1.2] -> [0, 1] ? [1, 0])\nPrediction correct? False ([5.7 2.9 4.2 1.3] -> [0, 1] ? [1, 0])\nPrediction correct? False ([6.2 2.9 4.3 1.3] -> [0, 1] ? [1, 0])\nPrediction correct? False ([5.1 2.5 3.  1.1] -> [0, 1] ? [1, 0])\nPrediction correct? False ([5.7 2.8 4.1 1.3] -> [0, 1] ? [1, 0])\nPrediction correct? True ([6.3 3.3 6.  2.5] -> [1, 0] ? [1, 0])\nPrediction correct? True ([5.8 2.7 5.1 1.9] -> [1, 0] ? [1, 0])\nPrediction correct? True ([7.1 3.  5.9 2.1] -> [1, 0] ? [1, 0])\nPrediction correct? True ([6.3 2.9 5.6 1.8] -> [1, 0] ? [1, 0])\nPrediction correct? True ([6.5 3.  5.8 2.2] -> [1, 0] ? [1, 0])\nPrediction correct? True ([7.6 3.  6.6 2.1] -> [1, 0] ? [1, 0])\nPrediction correct? True ([4.9 2.5 4.5 1.7] -> [1, 0] ? [1, 0])\nPrediction correct? True ([7.3 2.9 6.3 1.8] -> [1, 0] ? [1, 0])\nPrediction correct? True ([6.7 2.5 5.8 1.8] -> [1, 0] ? [1, 0])\nPrediction correct? True ([7.2 3.6 6.1 2.5] -> [1, 0] ? [1, 0])\nPrediction correct? True ([6.5 3.2 5.1 2. ] -> [1, 0] ? [1, 0])\nPrediction correct? True ([6.4 2.7 5.3 1.9] -> [1, 0] ? [1, 0])\nPrediction correct? True ([6.8 3.  5.5 2.1] -> [1, 0] ? [1, 0])\nPrediction correct? True ([5.7 2.5 5.  2. ] -> [1, 0] ? [1, 0])\nPrediction correct? True ([5.8 2.8 5.1 2.4] -> [1, 0] ? [1, 0])\nPrediction correct? True ([6.4 3.2 5.3 2.3] -> [1, 0] ? [1, 0])\nPrediction correct? True ([6.5 3.  5.5 1.8] -> [1, 0] ? [1, 0])\nPrediction correct? True ([7.7 3.8 6.7 2.2] -> [1, 0] ? [1, 0])\nPrediction correct? True ([7.7 2.6 6.9 2.3] -> [1, 0] ? [1, 0])\nPrediction correct? True ([6.  2.2 5.  1.5] -> [1, 0] ? [1, 0])\nPrediction correct? True ([6.9 3.2 5.7 2.3] -> [1, 0] ? [1, 0])\nPrediction correct? True ([5.6 2.8 4.9 2. ] -> [1, 0] ? [1, 0])\nPrediction correct? True ([7.7 2.8 6.7 2. ] -> [1, 0] ? [1, 0])\nPrediction correct? True ([6.3 2.7 4.9 1.8] -> [1, 0] ? [1, 0])\nPrediction correct? True ([6.7 3.3 5.7 2.1] -> [1, 0] ? [1, 0])\nPrediction correct? True ([7.2 3.2 6.  1.8] -> [1, 0] ? [1, 0])\nPrediction correct? True ([6.2 2.8 4.8 1.8] -> [1, 0] ? [1, 0])\nPrediction correct? True ([6.1 3.  4.9 1.8] -> [1, 0] ? [1, 0])\nPrediction correct? True ([6.4 2.8 5.6 2.1] -> [1, 0] ? [1, 0])\nPrediction correct? True ([7.2 3.  5.8 1.6] -> [1, 0] ? [1, 0])\nPrediction correct? True ([7.4 2.8 6.1 1.9] -> [1, 0] ? [1, 0])\nPrediction correct? True ([7.9 3.8 6.4 2. ] -> [1, 0] ? [1, 0])\nPrediction correct? True ([6.4 2.8 5.6 2.2] -> [1, 0] ? [1, 0])\nPrediction correct? True ([6.3 2.8 5.1 1.5] -> [1, 0] ? [1, 0])\nPrediction correct? True ([6.1 2.6 5.6 1.4] -> [1, 0] ? [1, 0])\nPrediction correct? True ([7.7 3.  6.1 2.3] -> [1, 0] ? [1, 0])\nPrediction correct? True ([6.3 3.4 5.6 2.4] -> [1, 0] ? [1, 0])\nPrediction correct? True ([6.4 3.1 5.5 1.8] -> [1, 0] ? [1, 0])\nPrediction correct? True ([6.  3.  4.8 1.8] -> [1, 0] ? [1, 0])\nPrediction correct? True ([6.9 3.1 5.4 2.1] -> [1, 0] ? [1, 0])\nPrediction correct? True ([6.7 3.1 5.6 2.4] -> [1, 0] ? [1, 0])\nPrediction correct? True ([6.9 3.1 5.1 2.3] -> [1, 0] ? [1, 0])\nPrediction correct? True ([5.8 2.7 5.1 1.9] -> [1, 0] ? [1, 0])\nPrediction correct? True ([6.8 3.2 5.9 2.3] -> [1, 0] ? [1, 0])\nPrediction correct? True ([6.7 3.3 5.7 2.5] -> [1, 0] ? [1, 0])\nPrediction correct? True ([6.7 3.  5.2 2.3] -> [1, 0] ? [1, 0])\nPrediction correct? True ([6.3 2.5 5.  1.9] -> [1, 0] ? [1, 0])\nPrediction correct? True ([6.5 3.  5.2 2. ] -> [1, 0] ? [1, 0])\nPrediction correct? True ([6.2 3.4 5.4 2.3] -> [1, 0] ? [1, 0])\nPrediction correct? True ([5.9 3.  5.1 1.8] -> [1, 0] ? [1, 0])\n"
     ]
    }
   ],
   "source": [
    "from iris_dataset import dataset, output\n",
    "\n",
    "perceptrons = []\n",
    "for output_column_index, output_item in enumerate(output[0]):\n",
    "    print(f'starting perceptron {output_column_index}')\n",
    "    perc = Perceptron()\n",
    "    outputs = [out[output_column_index] for out in output]\n",
    "    print(f\"outputs: {outputs}\")\n",
    "    perc.fit(dataset, outputs)\n",
    "    print(f'Here is the synapse array: {perc.synapse_array}')\n",
    "    perceptrons.append(perc)\n",
    "\n",
    "for row, result in zip(dataset, output):\n",
    "    prediction = [perc.predict(row) for perc in perceptrons]\n",
    "    print(f\"Prediction correct? {prediction == result} ({row} -> {result} ? {prediction})\")\n"
   ]
  },
  {
   "cell_type": "code",
   "execution_count": null,
   "metadata": {},
   "outputs": [],
   "source": []
  }
 ]
}